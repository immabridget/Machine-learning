{
 "cells": [
  {
   "cell_type": "code",
   "execution_count": 2,
   "metadata": {},
   "outputs": [
    {
     "name": "stdout",
     "output_type": "stream",
     "text": [
      "Collecting cmake\n",
      "  Downloading cmake-3.22.5-py2.py3-none-win_amd64.whl (38.1 MB)\n",
      "Collecting gym[atari]\n",
      "  Downloading gym-0.24.1.tar.gz (696 kB)\n",
      "  Installing build dependencies: started\n",
      "  Installing build dependencies: finished with status 'done'\n",
      "  Getting requirements to build wheel: started\n",
      "  Getting requirements to build wheel: finished with status 'done'\n",
      "    Preparing wheel metadata: started\n",
      "    Preparing wheel metadata: finished with status 'done'\n",
      "Requirement already satisfied: scipy in c:\\users\\immeculate\\anaconda3\\lib\\site-packages (1.5.2)\n",
      "Requirement already satisfied: numpy>=1.18.0 in c:\\users\\immeculate\\anaconda3\\lib\\site-packages (from gym[atari]) (1.19.2)\n",
      "Collecting importlib-metadata>=4.8.0; python_version < \"3.10\"\n",
      "  Downloading importlib_metadata-4.12.0-py3-none-any.whl (21 kB)\n",
      "Collecting gym-notices>=0.0.4\n",
      "  Downloading gym_notices-0.0.7-py3-none-any.whl (2.7 kB)\n",
      "Requirement already satisfied: cloudpickle>=1.2.0 in c:\\users\\immeculate\\anaconda3\\lib\\site-packages (from gym[atari]) (1.6.0)\n",
      "Collecting ale-py~=0.7.5; extra == \"atari\"\n",
      "  Downloading ale_py-0.7.5-cp38-cp38-win_amd64.whl (935 kB)\n",
      "Requirement already satisfied: zipp>=0.5 in c:\\users\\immeculate\\anaconda3\\lib\\site-packages (from importlib-metadata>=4.8.0; python_version < \"3.10\"->gym[atari]) (3.4.0)\n",
      "Collecting importlib-resources\n",
      "  Downloading importlib_resources-5.8.0-py3-none-any.whl (28 kB)\n",
      "Building wheels for collected packages: gym\n",
      "  Building wheel for gym (PEP 517): started\n",
      "  Building wheel for gym (PEP 517): finished with status 'done'\n",
      "  Created wheel for gym: filename=gym-0.24.1-py3-none-any.whl size=793137 sha256=3436b24c092fd367885fc4ac5f6dab3d8360600de26754094bd07de94b8003d1\n",
      "  Stored in directory: c:\\users\\immeculate\\appdata\\local\\pip\\cache\\wheels\\5a\\e9\\0b\\5536e77ed2edbbf067ecff287ec039633d40daee4d8dac7716\n",
      "Successfully built gym\n",
      "Installing collected packages: cmake, importlib-metadata, gym-notices, importlib-resources, ale-py, gym\n",
      "  Attempting uninstall: importlib-metadata\n",
      "    Found existing installation: importlib-metadata 2.0.0\n",
      "    Uninstalling importlib-metadata-2.0.0:\n",
      "      Successfully uninstalled importlib-metadata-2.0.0\n",
      "Successfully installed ale-py-0.7.5 cmake-3.22.5 gym-0.24.1 gym-notices-0.0.7 importlib-metadata-4.12.0 importlib-resources-5.8.0\n"
     ]
    }
   ],
   "source": [
    "!pip install cmake \"gym[atari]\" scipy"
   ]
  },
  {
   "cell_type": "code",
   "execution_count": 6,
   "metadata": {},
   "outputs": [
    {
     "name": "stdout",
     "output_type": "stream",
     "text": [
      "Requirement already satisfied: gym[toy_text] in c:\\users\\immeculate\\anaconda3\\lib\\site-packages (0.24.1)\n",
      "Requirement already satisfied: gym-notices>=0.0.4 in c:\\users\\immeculate\\anaconda3\\lib\\site-packages (from gym[toy_text]) (0.0.7)\n",
      "Requirement already satisfied: cloudpickle>=1.2.0 in c:\\users\\immeculate\\anaconda3\\lib\\site-packages (from gym[toy_text]) (1.6.0)\n",
      "Requirement already satisfied: numpy>=1.18.0 in c:\\users\\immeculate\\anaconda3\\lib\\site-packages (from gym[toy_text]) (1.19.2)\n",
      "Requirement already satisfied: importlib-metadata>=4.8.0; python_version < \"3.10\" in c:\\users\\immeculate\\anaconda3\\lib\\site-packages (from gym[toy_text]) (4.12.0)\n",
      "Collecting pygame==2.1.0; extra == \"toy_text\"\n",
      "  Downloading pygame-2.1.0-cp38-cp38-win_amd64.whl (4.8 MB)\n",
      "Requirement already satisfied: zipp>=0.5 in c:\\users\\immeculate\\anaconda3\\lib\\site-packages (from importlib-metadata>=4.8.0; python_version < \"3.10\"->gym[toy_text]) (3.4.0)\n",
      "Installing collected packages: pygame\n",
      "Successfully installed pygame-2.1.0\n",
      "Note: you may need to restart the kernel to use updated packages.\n"
     ]
    }
   ],
   "source": [
    "pip install gym[toy_text]\n"
   ]
  },
  {
   "cell_type": "code",
   "execution_count": 11,
   "metadata": {},
   "outputs": [],
   "source": [
    "import gym  \n",
    "import gym\n",
    "import time\n",
    "from IPython.display import clear_output\n",
    "\n",
    "env = gym.make(\"Taxi-v3\").env"
   ]
  },
  {
   "cell_type": "code",
   "execution_count": 15,
   "metadata": {},
   "outputs": [
    {
     "name": "stdout",
     "output_type": "stream",
     "text": [
      "(352, -1, False, {'prob': 1.0})\n"
     ]
    }
   ],
   "source": [
    "env.s = 328\n",
    "env.reset()\n",
    "env.render()\n",
    "print(env.step(2))\n",
    "time.sleep(10)\n",
    "clear_output(wait=True)\n",
    "\n",
    "env.render()"
   ]
  },
  {
   "cell_type": "code",
   "execution_count": null,
   "metadata": {},
   "outputs": [],
   "source": []
  }
 ],
 "metadata": {
  "kernelspec": {
   "display_name": "Python 3",
   "language": "python",
   "name": "python3"
  },
  "language_info": {
   "codemirror_mode": {
    "name": "ipython",
    "version": 3
   },
   "file_extension": ".py",
   "mimetype": "text/x-python",
   "name": "python",
   "nbconvert_exporter": "python",
   "pygments_lexer": "ipython3",
   "version": "3.8.5"
  }
 },
 "nbformat": 4,
 "nbformat_minor": 4
}

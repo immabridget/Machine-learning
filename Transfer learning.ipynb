{
 "cells": [
  {
   "cell_type": "code",
   "execution_count": 1,
   "metadata": {},
   "outputs": [],
   "source": [
    "import pandas as pd"
   ]
  },
  {
   "cell_type": "code",
   "execution_count": 3,
   "metadata": {},
   "outputs": [
    {
     "data": {
      "text/html": [
       "<div>\n",
       "<style scoped>\n",
       "    .dataframe tbody tr th:only-of-type {\n",
       "        vertical-align: middle;\n",
       "    }\n",
       "\n",
       "    .dataframe tbody tr th {\n",
       "        vertical-align: top;\n",
       "    }\n",
       "\n",
       "    .dataframe thead th {\n",
       "        text-align: right;\n",
       "    }\n",
       "</style>\n",
       "<table border=\"1\" class=\"dataframe\">\n",
       "  <thead>\n",
       "    <tr style=\"text-align: right;\">\n",
       "      <th></th>\n",
       "      <th>id</th>\n",
       "      <th>text</th>\n",
       "      <th>created_at</th>\n",
       "      <th>author_id</th>\n",
       "      <th>in_reply_to_user_id</th>\n",
       "      <th>lang</th>\n",
       "      <th>author</th>\n",
       "      <th>entities</th>\n",
       "      <th>referenced_tweets</th>\n",
       "      <th>media</th>\n",
       "      <th>geo</th>\n",
       "    </tr>\n",
       "  </thead>\n",
       "  <tbody>\n",
       "    <tr>\n",
       "      <th>0</th>\n",
       "      <td>1538914496529448960</td>\n",
       "      <td>RT @AzimioUmoja: Tumaini, Rongai town, Kajiado...</td>\n",
       "      <td>NaN</td>\n",
       "      <td>NaN</td>\n",
       "      <td>NaN</td>\n",
       "      <td>NaN</td>\n",
       "      <td>NaN</td>\n",
       "      <td>NaN</td>\n",
       "      <td>NaN</td>\n",
       "      <td>NaN</td>\n",
       "      <td>NaN</td>\n",
       "    </tr>\n",
       "    <tr>\n",
       "      <th>1</th>\n",
       "      <td>1538914403789471746</td>\n",
       "      <td>@hsriiix @fiziedan Mende gila? Hahaha.</td>\n",
       "      <td>NaN</td>\n",
       "      <td>NaN</td>\n",
       "      <td>NaN</td>\n",
       "      <td>NaN</td>\n",
       "      <td>NaN</td>\n",
       "      <td>NaN</td>\n",
       "      <td>NaN</td>\n",
       "      <td>NaN</td>\n",
       "      <td>NaN</td>\n",
       "    </tr>\n",
       "    <tr>\n",
       "      <th>2</th>\n",
       "      <td>1538914385531482113</td>\n",
       "      <td>RT @Kenyans: Stickers with famous Kenyan phras...</td>\n",
       "      <td>NaN</td>\n",
       "      <td>NaN</td>\n",
       "      <td>NaN</td>\n",
       "      <td>NaN</td>\n",
       "      <td>NaN</td>\n",
       "      <td>NaN</td>\n",
       "      <td>NaN</td>\n",
       "      <td>NaN</td>\n",
       "      <td>NaN</td>\n",
       "    </tr>\n",
       "    <tr>\n",
       "      <th>3</th>\n",
       "      <td>1538914260260102145</td>\n",
       "      <td>RT @soyrafillo: Y la chula esta que ya esta ac...</td>\n",
       "      <td>NaN</td>\n",
       "      <td>NaN</td>\n",
       "      <td>NaN</td>\n",
       "      <td>NaN</td>\n",
       "      <td>NaN</td>\n",
       "      <td>NaN</td>\n",
       "      <td>NaN</td>\n",
       "      <td>NaN</td>\n",
       "      <td>NaN</td>\n",
       "    </tr>\n",
       "    <tr>\n",
       "      <th>4</th>\n",
       "      <td>1538914144224792582</td>\n",
       "      <td>RT @rootsparty01: Mr 6 and Mr kitendawili Waja...</td>\n",
       "      <td>NaN</td>\n",
       "      <td>NaN</td>\n",
       "      <td>NaN</td>\n",
       "      <td>NaN</td>\n",
       "      <td>NaN</td>\n",
       "      <td>NaN</td>\n",
       "      <td>NaN</td>\n",
       "      <td>NaN</td>\n",
       "      <td>NaN</td>\n",
       "    </tr>\n",
       "  </tbody>\n",
       "</table>\n",
       "</div>"
      ],
      "text/plain": [
       "                    id                                               text  \\\n",
       "0  1538914496529448960  RT @AzimioUmoja: Tumaini, Rongai town, Kajiado...   \n",
       "1  1538914403789471746             @hsriiix @fiziedan Mende gila? Hahaha.   \n",
       "2  1538914385531482113  RT @Kenyans: Stickers with famous Kenyan phras...   \n",
       "3  1538914260260102145  RT @soyrafillo: Y la chula esta que ya esta ac...   \n",
       "4  1538914144224792582  RT @rootsparty01: Mr 6 and Mr kitendawili Waja...   \n",
       "\n",
       "   created_at  author_id  in_reply_to_user_id  lang  author  entities  \\\n",
       "0         NaN        NaN                  NaN   NaN     NaN       NaN   \n",
       "1         NaN        NaN                  NaN   NaN     NaN       NaN   \n",
       "2         NaN        NaN                  NaN   NaN     NaN       NaN   \n",
       "3         NaN        NaN                  NaN   NaN     NaN       NaN   \n",
       "4         NaN        NaN                  NaN   NaN     NaN       NaN   \n",
       "\n",
       "   referenced_tweets  media  geo  \n",
       "0                NaN    NaN  NaN  \n",
       "1                NaN    NaN  NaN  \n",
       "2                NaN    NaN  NaN  \n",
       "3                NaN    NaN  NaN  \n",
       "4                NaN    NaN  NaN  "
      ]
     },
     "execution_count": 3,
     "metadata": {},
     "output_type": "execute_result"
    }
   ],
   "source": [
    "data=pd.read_csv(\"updatedTweets.csv\")\n",
    "data.head()"
   ]
  },
  {
   "cell_type": "code",
   "execution_count": 4,
   "metadata": {},
   "outputs": [
    {
     "data": {
      "text/html": [
       "<div>\n",
       "<style scoped>\n",
       "    .dataframe tbody tr th:only-of-type {\n",
       "        vertical-align: middle;\n",
       "    }\n",
       "\n",
       "    .dataframe tbody tr th {\n",
       "        vertical-align: top;\n",
       "    }\n",
       "\n",
       "    .dataframe thead th {\n",
       "        text-align: right;\n",
       "    }\n",
       "</style>\n",
       "<table border=\"1\" class=\"dataframe\">\n",
       "  <thead>\n",
       "    <tr style=\"text-align: right;\">\n",
       "      <th></th>\n",
       "      <th>id</th>\n",
       "      <th>text</th>\n",
       "    </tr>\n",
       "  </thead>\n",
       "  <tbody>\n",
       "    <tr>\n",
       "      <th>0</th>\n",
       "      <td>1538914496529448960</td>\n",
       "      <td>RT @AzimioUmoja: Tumaini, Rongai town, Kajiado...</td>\n",
       "    </tr>\n",
       "    <tr>\n",
       "      <th>1</th>\n",
       "      <td>1538914403789471746</td>\n",
       "      <td>@hsriiix @fiziedan Mende gila? Hahaha.</td>\n",
       "    </tr>\n",
       "    <tr>\n",
       "      <th>2</th>\n",
       "      <td>1538914385531482113</td>\n",
       "      <td>RT @Kenyans: Stickers with famous Kenyan phras...</td>\n",
       "    </tr>\n",
       "    <tr>\n",
       "      <th>3</th>\n",
       "      <td>1538914260260102145</td>\n",
       "      <td>RT @soyrafillo: Y la chula esta que ya esta ac...</td>\n",
       "    </tr>\n",
       "    <tr>\n",
       "      <th>4</th>\n",
       "      <td>1538914144224792582</td>\n",
       "      <td>RT @rootsparty01: Mr 6 and Mr kitendawili Waja...</td>\n",
       "    </tr>\n",
       "  </tbody>\n",
       "</table>\n",
       "</div>"
      ],
      "text/plain": [
       "                    id                                               text\n",
       "0  1538914496529448960  RT @AzimioUmoja: Tumaini, Rongai town, Kajiado...\n",
       "1  1538914403789471746             @hsriiix @fiziedan Mende gila? Hahaha.\n",
       "2  1538914385531482113  RT @Kenyans: Stickers with famous Kenyan phras...\n",
       "3  1538914260260102145  RT @soyrafillo: Y la chula esta que ya esta ac...\n",
       "4  1538914144224792582  RT @rootsparty01: Mr 6 and Mr kitendawili Waja..."
      ]
     },
     "execution_count": 4,
     "metadata": {},
     "output_type": "execute_result"
    }
   ],
   "source": [
    "df=data[['id','text']]\n",
    "df.head()"
   ]
  },
  {
   "cell_type": "code",
   "execution_count": 5,
   "metadata": {},
   "outputs": [
    {
     "data": {
      "text/plain": [
       "0         False\n",
       "1         False\n",
       "2         False\n",
       "3         False\n",
       "4         False\n",
       "          ...  \n",
       "324200     True\n",
       "324201     True\n",
       "324202     True\n",
       "324203     True\n",
       "324204     True\n",
       "Length: 324205, dtype: bool"
      ]
     },
     "execution_count": 5,
     "metadata": {},
     "output_type": "execute_result"
    }
   ],
   "source": [
    "#preprocess text\n",
    "df.duplicated()"
   ]
  },
  {
   "cell_type": "code",
   "execution_count": 6,
   "metadata": {},
   "outputs": [],
   "source": [
    "df1=df.drop_duplicates()"
   ]
  },
  {
   "cell_type": "code",
   "execution_count": 7,
   "metadata": {},
   "outputs": [
    {
     "data": {
      "text/html": [
       "<div>\n",
       "<style scoped>\n",
       "    .dataframe tbody tr th:only-of-type {\n",
       "        vertical-align: middle;\n",
       "    }\n",
       "\n",
       "    .dataframe tbody tr th {\n",
       "        vertical-align: top;\n",
       "    }\n",
       "\n",
       "    .dataframe thead th {\n",
       "        text-align: right;\n",
       "    }\n",
       "</style>\n",
       "<table border=\"1\" class=\"dataframe\">\n",
       "  <thead>\n",
       "    <tr style=\"text-align: right;\">\n",
       "      <th></th>\n",
       "      <th>id</th>\n",
       "      <th>text</th>\n",
       "    </tr>\n",
       "  </thead>\n",
       "  <tbody>\n",
       "    <tr>\n",
       "      <th>0</th>\n",
       "      <td>1538914496529448960</td>\n",
       "      <td>RT @AzimioUmoja: Tumaini, Rongai town, Kajiado...</td>\n",
       "    </tr>\n",
       "    <tr>\n",
       "      <th>1</th>\n",
       "      <td>1538914403789471746</td>\n",
       "      <td>@hsriiix @fiziedan Mende gila? Hahaha.</td>\n",
       "    </tr>\n",
       "    <tr>\n",
       "      <th>2</th>\n",
       "      <td>1538914385531482113</td>\n",
       "      <td>RT @Kenyans: Stickers with famous Kenyan phras...</td>\n",
       "    </tr>\n",
       "    <tr>\n",
       "      <th>3</th>\n",
       "      <td>1538914260260102145</td>\n",
       "      <td>RT @soyrafillo: Y la chula esta que ya esta ac...</td>\n",
       "    </tr>\n",
       "    <tr>\n",
       "      <th>4</th>\n",
       "      <td>1538914144224792582</td>\n",
       "      <td>RT @rootsparty01: Mr 6 and Mr kitendawili Waja...</td>\n",
       "    </tr>\n",
       "    <tr>\n",
       "      <th>...</th>\n",
       "      <td>...</td>\n",
       "      <td>...</td>\n",
       "    </tr>\n",
       "    <tr>\n",
       "      <th>323700</th>\n",
       "      <td>1509683872300208139</td>\n",
       "      <td>@GasparyCharlesG @yose_hoza @ahmedkherlid @dr_...</td>\n",
       "    </tr>\n",
       "    <tr>\n",
       "      <th>323701</th>\n",
       "      <td>1509683844013723650</td>\n",
       "      <td>Escribí estas notas sobre los orígenes del coo...</td>\n",
       "    </tr>\n",
       "    <tr>\n",
       "      <th>323702</th>\n",
       "      <td>1509683489616154625</td>\n",
       "      <td>@estoriboris Les damos a Novoa y un abracito p...</td>\n",
       "    </tr>\n",
       "    <tr>\n",
       "      <th>323703</th>\n",
       "      <td>1509683190042173447</td>\n",
       "      <td>@ElLorko Quien se perdería de dirigir a CHUNGA</td>\n",
       "    </tr>\n",
       "    <tr>\n",
       "      <th>323704</th>\n",
       "      <td>1509682938870337544</td>\n",
       "      <td>RT @brgsjks: Mende mandi mineral water. Bazir ...</td>\n",
       "    </tr>\n",
       "  </tbody>\n",
       "</table>\n",
       "<p>323705 rows × 2 columns</p>\n",
       "</div>"
      ],
      "text/plain": [
       "                         id                                               text\n",
       "0       1538914496529448960  RT @AzimioUmoja: Tumaini, Rongai town, Kajiado...\n",
       "1       1538914403789471746             @hsriiix @fiziedan Mende gila? Hahaha.\n",
       "2       1538914385531482113  RT @Kenyans: Stickers with famous Kenyan phras...\n",
       "3       1538914260260102145  RT @soyrafillo: Y la chula esta que ya esta ac...\n",
       "4       1538914144224792582  RT @rootsparty01: Mr 6 and Mr kitendawili Waja...\n",
       "...                     ...                                                ...\n",
       "323700  1509683872300208139  @GasparyCharlesG @yose_hoza @ahmedkherlid @dr_...\n",
       "323701  1509683844013723650  Escribí estas notas sobre los orígenes del coo...\n",
       "323702  1509683489616154625  @estoriboris Les damos a Novoa y un abracito p...\n",
       "323703  1509683190042173447     @ElLorko Quien se perdería de dirigir a CHUNGA\n",
       "323704  1509682938870337544  RT @brgsjks: Mende mandi mineral water. Bazir ...\n",
       "\n",
       "[323705 rows x 2 columns]"
      ]
     },
     "execution_count": 7,
     "metadata": {},
     "output_type": "execute_result"
    }
   ],
   "source": [
    "df1"
   ]
  },
  {
   "cell_type": "code",
   "execution_count": 8,
   "metadata": {},
   "outputs": [
    {
     "name": "stdout",
     "output_type": "stream",
     "text": [
      "Collecting gensim\n",
      "  Downloading gensim-4.2.0-cp38-cp38-win_amd64.whl (24.0 MB)\n",
      "Requirement already satisfied: numpy>=1.17.0 in c:\\users\\immeculate\\anaconda3\\lib\\site-packages (from gensim) (1.19.2)\n",
      "Collecting Cython==0.29.28\n",
      "  Downloading Cython-0.29.28-py2.py3-none-any.whl (983 kB)\n",
      "Collecting smart-open>=1.8.1\n",
      "  Downloading smart_open-6.0.0-py3-none-any.whl (58 kB)\n",
      "Requirement already satisfied: scipy>=0.18.1 in c:\\users\\immeculate\\anaconda3\\lib\\site-packages (from gensim) (1.5.2)\n",
      "Installing collected packages: Cython, smart-open, gensim\n",
      "  Attempting uninstall: Cython\n",
      "    Found existing installation: Cython 0.29.21\n",
      "    Uninstalling Cython-0.29.21:\n",
      "      Successfully uninstalled Cython-0.29.21\n",
      "Successfully installed Cython-0.29.28 gensim-4.2.0 smart-open-6.0.0\n"
     ]
    }
   ],
   "source": [
    "!pip install gensim"
   ]
  },
  {
   "cell_type": "code",
   "execution_count": 18,
   "metadata": {},
   "outputs": [
    {
     "name": "stderr",
     "output_type": "stream",
     "text": [
      "[nltk_data] Downloading package wordnet to\n",
      "[nltk_data]     C:\\Users\\Immeculate\\AppData\\Roaming\\nltk_data...\n",
      "[nltk_data]   Unzipping corpora\\wordnet.zip.\n"
     ]
    },
    {
     "data": {
      "text/plain": [
       "True"
      ]
     },
     "execution_count": 18,
     "metadata": {},
     "output_type": "execute_result"
    }
   ],
   "source": [
    "import re\n",
    "import gensim\n",
    "import nltk\n",
    "from nltk.stem import WordNetLemmatizer\n",
    "nltk.download('wordnet')"
   ]
  },
  {
   "cell_type": "code",
   "execution_count": 19,
   "metadata": {},
   "outputs": [],
   "source": [
    "punctuation = '!\"$%&\\'()*+,-./:;<=>?[\\\\]^_`{|}~•@'         # define a string of punctuation symbols"
   ]
  },
  {
   "cell_type": "code",
   "execution_count": 20,
   "metadata": {},
   "outputs": [],
   "source": [
    "# Functions to clean tweets\n",
    "def remove_links(tweet):\n",
    "    \"\"\"Takes a string and removes web links from it\"\"\"\n",
    "    tweet = re.sub(r'http\\S+', '', tweet)   # remove http links\n",
    "    tweet = re.sub(r'bit.ly/\\S+', '', tweet)  # remove bitly links\n",
    "    tweet = tweet.strip('[link]')   # remove [links]\n",
    "    tweet = re.sub(r'pic.twitter\\S+','', tweet)\n",
    "    return tweet"
   ]
  },
  {
   "cell_type": "code",
   "execution_count": 21,
   "metadata": {},
   "outputs": [],
   "source": [
    "def remove_users(tweet):\n",
    "    \"\"\"Takes a string and removes retweet and @user information\"\"\"\n",
    "    tweet = re.sub('(RT\\s@[A-Za-z]+[A-Za-z0-9-_]+)', '', tweet)  # remove re-tweet\n",
    "    tweet = re.sub('(@[A-Za-z]+[A-Za-z0-9-_]+)', '', tweet)  # remove tweeted at\n",
    "    return tweet"
   ]
  },
  {
   "cell_type": "code",
   "execution_count": 22,
   "metadata": {},
   "outputs": [],
   "source": [
    "\n",
    "def remove_hashtags(tweet):\n",
    "    \"\"\"Takes a string and removes any hash tags\"\"\"\n",
    "    tweet = re.sub('(#[A-Za-z]+[A-Za-z0-9-_]+)', '', tweet)  # remove hash tags\n",
    "    return tweet\n",
    "\n",
    "def remove_av(tweet):\n",
    "    \"\"\"Takes a string and removes AUDIO/VIDEO tags or labels\"\"\"\n",
    "    tweet = re.sub('VIDEO:', '', tweet)  # remove 'VIDEO:' from start of tweet\n",
    "    tweet = re.sub('AUDIO:', '', tweet)  # remove 'AUDIO:' from start of tweet\n",
    "    return tweet\n",
    "\n",
    "def tokenize(tweet):\n",
    "    \"\"\"Returns tokenized representation of words in lemma form excluding stopwords\"\"\"\n",
    "    result = []\n",
    "    for token in gensim.utils.simple_preprocess(tweet):\n",
    "        if token not in gensim.parsing.preprocessing.STOPWORDS \\\n",
    "                and len(token) > 2:  # drops words with less than 3 characters\n",
    "            result.append(lemmatize(token))\n",
    "    return result\n"
   ]
  },
  {
   "cell_type": "code",
   "execution_count": 23,
   "metadata": {},
   "outputs": [],
   "source": [
    "def lemmatize(token):\n",
    "    \"\"\"Returns lemmatization of a token\"\"\"\n",
    "    return WordNetLemmatizer().lemmatize(token, pos='v')\n",
    "\n",
    "def preprocess_tweet(tweet):\n",
    "    \"\"\"Main master function to clean tweets, stripping noisy characters, and tokenizing use lemmatization\"\"\"\n",
    "    tweet = remove_users(tweet)\n",
    "    tweet = remove_links(tweet)\n",
    "    tweet = remove_hashtags(tweet)\n",
    "    tweet = remove_av(tweet)\n",
    "    tweet = tweet.lower()  # lower case\n",
    "    tweet = re.sub('[' + punctuation + ']+', ' ', tweet)  # strip punctuation\n",
    "    tweet = re.sub('\\s+', ' ', tweet)  # remove double spacing\n",
    "    tweet = re.sub('([0-9]+)', '', tweet)  # remove numbers\n",
    "    tweet_token_list = tokenize(tweet)  # apply lemmatization and tokenization\n",
    "    tweet = ' '.join(tweet_token_list)\n",
    "    return tweet\n",
    "\n",
    "def basic_clean(tweet):\n",
    "    \"\"\"Main master function to clean tweets only without tokenization or removal of stopwords\"\"\"\n",
    "    tweet = remove_users(tweet)\n",
    "    tweet = remove_links(tweet)\n",
    "    tweet = remove_hashtags(tweet)\n",
    "    tweet = remove_av(tweet)\n",
    "    tweet = tweet.lower()  # lower case\n",
    "    tweet = re.sub('[' + punctuation + ']+', ' ', tweet)  # strip punctuation\n",
    "    tweet = re.sub('\\s+', ' ', tweet)  # remove double spacing\n",
    "    tweet = re.sub('([0-9]+)', '', tweet)  # remove numbers\n",
    "    tweet = re.sub('📝 …', '', tweet)\n",
    "    return tweet"
   ]
  },
  {
   "cell_type": "code",
   "execution_count": 24,
   "metadata": {},
   "outputs": [],
   "source": [
    "def tokenize_tweets(df):\n",
    "    \"\"\"Main function to read in and return cleaned and preprocessed dataframe.\n",
    "    This can be used in Jupyter notebooks by importing this module and calling the tokenize_tweets() function\n",
    "    Args:\n",
    "        df = data frame object to apply cleaning to\n",
    "    Returns:\n",
    "        pandas data frame with cleaned tokens\n",
    "    \"\"\"\n",
    "\n",
    "    df['tokens'] = df['text'].apply(preprocess_tweet)\n",
    "    num_tweets = len(df)\n",
    "    print('Complete. Number of Tweets that have been cleaned and tokenized : {}'.format(num_tweets))\n",
    "    return df"
   ]
  },
  {
   "cell_type": "code",
   "execution_count": 25,
   "metadata": {},
   "outputs": [
    {
     "name": "stdout",
     "output_type": "stream",
     "text": [
      "Complete. Number of Tweets that have been cleaned and tokenized : 323705\n"
     ]
    },
    {
     "name": "stderr",
     "output_type": "stream",
     "text": [
      "<ipython-input-24-6c0165a07ee9>:10: SettingWithCopyWarning: \n",
      "A value is trying to be set on a copy of a slice from a DataFrame.\n",
      "Try using .loc[row_indexer,col_indexer] = value instead\n",
      "\n",
      "See the caveats in the documentation: https://pandas.pydata.org/pandas-docs/stable/user_guide/indexing.html#returning-a-view-versus-a-copy\n",
      "  df['tokens'] = df['text'].apply(preprocess_tweet)\n"
     ]
    },
    {
     "data": {
      "text/html": [
       "<div>\n",
       "<style scoped>\n",
       "    .dataframe tbody tr th:only-of-type {\n",
       "        vertical-align: middle;\n",
       "    }\n",
       "\n",
       "    .dataframe tbody tr th {\n",
       "        vertical-align: top;\n",
       "    }\n",
       "\n",
       "    .dataframe thead th {\n",
       "        text-align: right;\n",
       "    }\n",
       "</style>\n",
       "<table border=\"1\" class=\"dataframe\">\n",
       "  <thead>\n",
       "    <tr style=\"text-align: right;\">\n",
       "      <th></th>\n",
       "      <th>id</th>\n",
       "      <th>text</th>\n",
       "      <th>tokens</th>\n",
       "    </tr>\n",
       "  </thead>\n",
       "  <tbody>\n",
       "    <tr>\n",
       "      <th>0</th>\n",
       "      <td>1538914496529448960</td>\n",
       "      <td>RT @AzimioUmoja: Tumaini, Rongai town, Kajiado...</td>\n",
       "      <td>tumaini rongai town kajiado county</td>\n",
       "    </tr>\n",
       "    <tr>\n",
       "      <th>1</th>\n",
       "      <td>1538914403789471746</td>\n",
       "      <td>@hsriiix @fiziedan Mende gila? Hahaha.</td>\n",
       "      <td>mende gila hahaha</td>\n",
       "    </tr>\n",
       "    <tr>\n",
       "      <th>2</th>\n",
       "      <td>1538914385531482113</td>\n",
       "      <td>RT @Kenyans: Stickers with famous Kenyan phras...</td>\n",
       "      <td>stickers famous kenyan phrase mimi sipangwingw...</td>\n",
       "    </tr>\n",
       "    <tr>\n",
       "      <th>3</th>\n",
       "      <td>1538914260260102145</td>\n",
       "      <td>RT @soyrafillo: Y la chula esta que ya esta ac...</td>\n",
       "      <td>chula esta que esta acabando grabar capitulo s...</td>\n",
       "    </tr>\n",
       "    <tr>\n",
       "      <th>4</th>\n",
       "      <td>1538914144224792582</td>\n",
       "      <td>RT @rootsparty01: Mr 6 and Mr kitendawili Waja...</td>\n",
       "      <td>kitendawili wajackoya unstoppable</td>\n",
       "    </tr>\n",
       "    <tr>\n",
       "      <th>...</th>\n",
       "      <td>...</td>\n",
       "      <td>...</td>\n",
       "      <td>...</td>\n",
       "    </tr>\n",
       "    <tr>\n",
       "      <th>323700</th>\n",
       "      <td>1509683872300208139</td>\n",
       "      <td>@GasparyCharlesG @yose_hoza @ahmedkherlid @dr_...</td>\n",
       "      <td>jack gibson waandishi kama kitenge huganya kaz...</td>\n",
       "    </tr>\n",
       "    <tr>\n",
       "      <th>323701</th>\n",
       "      <td>1509683844013723650</td>\n",
       "      <td>Escribí estas notas sobre los orígenes del coo...</td>\n",
       "      <td>escribí estas notas sobre los orígenes del coo...</td>\n",
       "    </tr>\n",
       "    <tr>\n",
       "      <th>323702</th>\n",
       "      <td>1509683489616154625</td>\n",
       "      <td>@estoriboris Les damos a Novoa y un abracito p...</td>\n",
       "      <td>les damos novoa abracito por chunga</td>\n",
       "    </tr>\n",
       "    <tr>\n",
       "      <th>323703</th>\n",
       "      <td>1509683190042173447</td>\n",
       "      <td>@ElLorko Quien se perdería de dirigir a CHUNGA</td>\n",
       "      <td>quien perdería dirigir chunga</td>\n",
       "    </tr>\n",
       "    <tr>\n",
       "      <th>323704</th>\n",
       "      <td>1509682938870337544</td>\n",
       "      <td>RT @brgsjks: Mende mandi mineral water. Bazir ...</td>\n",
       "      <td>mende mandi mineral water bazir betul</td>\n",
       "    </tr>\n",
       "  </tbody>\n",
       "</table>\n",
       "<p>323705 rows × 3 columns</p>\n",
       "</div>"
      ],
      "text/plain": [
       "                         id  \\\n",
       "0       1538914496529448960   \n",
       "1       1538914403789471746   \n",
       "2       1538914385531482113   \n",
       "3       1538914260260102145   \n",
       "4       1538914144224792582   \n",
       "...                     ...   \n",
       "323700  1509683872300208139   \n",
       "323701  1509683844013723650   \n",
       "323702  1509683489616154625   \n",
       "323703  1509683190042173447   \n",
       "323704  1509682938870337544   \n",
       "\n",
       "                                                     text  \\\n",
       "0       RT @AzimioUmoja: Tumaini, Rongai town, Kajiado...   \n",
       "1                  @hsriiix @fiziedan Mende gila? Hahaha.   \n",
       "2       RT @Kenyans: Stickers with famous Kenyan phras...   \n",
       "3       RT @soyrafillo: Y la chula esta que ya esta ac...   \n",
       "4       RT @rootsparty01: Mr 6 and Mr kitendawili Waja...   \n",
       "...                                                   ...   \n",
       "323700  @GasparyCharlesG @yose_hoza @ahmedkherlid @dr_...   \n",
       "323701  Escribí estas notas sobre los orígenes del coo...   \n",
       "323702  @estoriboris Les damos a Novoa y un abracito p...   \n",
       "323703     @ElLorko Quien se perdería de dirigir a CHUNGA   \n",
       "323704  RT @brgsjks: Mende mandi mineral water. Bazir ...   \n",
       "\n",
       "                                                   tokens  \n",
       "0                      tumaini rongai town kajiado county  \n",
       "1                                       mende gila hahaha  \n",
       "2       stickers famous kenyan phrase mimi sipangwingw...  \n",
       "3       chula esta que esta acabando grabar capitulo s...  \n",
       "4                       kitendawili wajackoya unstoppable  \n",
       "...                                                   ...  \n",
       "323700  jack gibson waandishi kama kitenge huganya kaz...  \n",
       "323701  escribí estas notas sobre los orígenes del coo...  \n",
       "323702                les damos novoa abracito por chunga  \n",
       "323703                      quien perdería dirigir chunga  \n",
       "323704              mende mandi mineral water bazir betul  \n",
       "\n",
       "[323705 rows x 3 columns]"
      ]
     },
     "execution_count": 25,
     "metadata": {},
     "output_type": "execute_result"
    }
   ],
   "source": [
    "tokenize_tweets(df1)"
   ]
  },
  {
   "cell_type": "code",
   "execution_count": null,
   "metadata": {},
   "outputs": [],
   "source": [
    "df1"
   ]
  },
  {
   "cell_type": "code",
   "execution_count": null,
   "metadata": {},
   "outputs": [],
   "source": [
    "import re\n",
    "list_of_hate_words=['mende','sipangwingwi','madoadoa','wabara','wakuja']\n",
    "df1[\"Label\"]=df1[\"tokens\"].map(lambda x: \"Hate\" if ((\"mende\" or \"sipangwingwi\" or \"madoadoa\" or \"wabara\" or \"wakuja\") in x) else 'No Hate')\n",
    "#df1[\"Label\"]=df1.apply(lambda x: 'Hate' if x==[df1['tokens'].str.contains('mende')|df1['tokens'].str.contains('sipangwingwi')|df1['tokens'].str.contains('wabara')|df1['tokens'].str.contains('madoadoa')|df1['tokens'].str.contains('wakuja') else \"No Hate\"]"
   ]
  },
  {
   "cell_type": "code",
   "execution_count": null,
   "metadata": {},
   "outputs": [],
   "source": [
    "df1"
   ]
  },
  {
   "cell_type": "code",
   "execution_count": null,
   "metadata": {},
   "outputs": [],
   "source": [
    "df1['Label'].value_counts()"
   ]
  },
  {
   "cell_type": "code",
   "execution_count": null,
   "metadata": {},
   "outputs": [],
   "source": [
    "df1['Label'].value_counts()"
   ]
  },
  {
   "cell_type": "code",
   "execution_count": null,
   "metadata": {},
   "outputs": [],
   "source": [
    "df1['label_category']=df1['Label'].apply(lambda x:'1' if x=='Hate' else '0') #'hate'=1 'not hate'=0"
   ]
  },
  {
   "cell_type": "code",
   "execution_count": null,
   "metadata": {},
   "outputs": [],
   "source": [
    "df1"
   ]
  },
  {
   "cell_type": "code",
   "execution_count": null,
   "metadata": {},
   "outputs": [],
   "source": [
    "df1['label_category'].value_counts()"
   ]
  },
  {
   "cell_type": "code",
   "execution_count": null,
   "metadata": {},
   "outputs": [],
   "source": []
  }
 ],
 "metadata": {
  "kernelspec": {
   "display_name": "Python 3",
   "language": "python",
   "name": "python3"
  },
  "language_info": {
   "codemirror_mode": {
    "name": "ipython",
    "version": 3
   },
   "file_extension": ".py",
   "mimetype": "text/x-python",
   "name": "python",
   "nbconvert_exporter": "python",
   "pygments_lexer": "ipython3",
   "version": "3.8.5"
  }
 },
 "nbformat": 4,
 "nbformat_minor": 5
}
